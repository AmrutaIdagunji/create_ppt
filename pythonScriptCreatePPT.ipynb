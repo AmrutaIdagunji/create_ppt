{
 "cells": [
  {
   "cell_type": "code",
   "execution_count": 1,
   "metadata": {},
   "outputs": [],
   "source": [
    "# import libraries\n",
    "from pptx import Presentation\n",
    "from pptx.util import Inches\n",
    "\n",
    "# Start the PPT application\n",
    "pres = Presentation()\n"
   ]
  },
  {
   "cell_type": "code",
   "execution_count": 2,
   "metadata": {},
   "outputs": [],
   "source": [
    "# Assuming images already exist in Documents->images folder. create a handle to the images to be added in the PPT\n",
    "file1 = \"./images/image1.jpeg\"\n",
    "file2 = \"./images/image2.jpeg\"\n",
    "file3 = \"./images/image3.jpeg\"\n"
   ]
  },
  {
   "cell_type": "markdown",
   "metadata": {},
   "source": [
    "## Lets add one of each layout supported in pptx library"
   ]
  },
  {
   "cell_type": "code",
   "execution_count": 3,
   "metadata": {},
   "outputs": [],
   "source": [
    "# 1. Title\n",
    "slidetype1 = pres.slides.add_slide(pres.slide_layouts[0])\n",
    "slidetype1.shapes.title.text = \"Sample Title here\"\n",
    "slidetype1.placeholders[1].text = \"Sample Description: \\n first layout \\n slide_layouts[0] - Title and content\"\n"
   ]
  },
  {
   "cell_type": "code",
   "execution_count": 4,
   "metadata": {},
   "outputs": [],
   "source": [
    "# 2. Title and Content\n",
    "slidetype2 = pres.slides.add_slide(pres.slide_layouts[1])\n",
    "slidetype2.placeholders[0].text = \"Sample Title\"\n",
    "slidetype2.placeholders[1].text = \"\"\"Sample Description: Second layout.\n",
    "slide_layouts[1] - Title and content. \n",
    "Similar to first layout but arrangement is different.\n",
    "\"\"\"\n"
   ]
  },
  {
   "cell_type": "code",
   "execution_count": 5,
   "metadata": {},
   "outputs": [],
   "source": [
    "# 3. Section Header\n",
    "slidetype3 = pres.slides.add_slide(pres.slide_layouts[2])\n",
    "slidetype3.placeholders[0].text = \"This is the title\"\n",
    "slidetype3.placeholders[1].text = \"\"\"Sample description: in this layout type, description comes first.\n",
    "Third layout \\n slide_layouts[2] - Section Header type\"\"\" \n"
   ]
  },
  {
   "cell_type": "code",
   "execution_count": 6,
   "metadata": {},
   "outputs": [],
   "source": [
    "# 4. Two Content\n",
    "slidetype4 = pres.slides.add_slide(pres.slide_layouts[3])\n",
    "slidetype4.placeholders[0].text = \"Slide Title\"\n",
    "slidetype4.placeholders[1].text = \"This section/placeholder can be used to write some text.\"\n",
    "slidetype4.placeholders[2].text = \"\"\"Fourth layout \\n slide_layouts[4] - Two Content sections.\"\"\"\n"
   ]
  },
  {
   "cell_type": "code",
   "execution_count": 7,
   "metadata": {},
   "outputs": [],
   "source": [
    "# 5. Comparison\n",
    "slidetype5 = pres.slides.add_slide(pres.slide_layouts[4])\n",
    "slidetype5.placeholders[0].text = \"Slide title here\"\n",
    "slidetype5.placeholders[1].text = \"Panel 1 - title \"\n",
    "slidetype5.placeholders[2].text = \"Content Section\"\n",
    "slidetype5.placeholders[3].text = \"Panel 2 - title\"\n",
    "slidetype5.placeholders[4].text = \"Fifth Layout \\n slide_layouts[5] - Comparison type\"\n"
   ]
  },
  {
   "cell_type": "code",
   "execution_count": 8,
   "metadata": {},
   "outputs": [
    {
     "data": {
      "text/plain": [
       "<pptx.shapes.picture.Picture at 0x7feed98aeb50>"
      ]
     },
     "execution_count": 8,
     "metadata": {},
     "output_type": "execute_result"
    }
   ],
   "source": [
    "# 6. Title Only\n",
    "slidetype6 = pres.slides.add_slide(pres.slide_layouts[5])\n",
    "slidetype6.placeholders[0].text = \"Title only\"\n",
    "\n",
    "# Insert images here as well\n",
    "slidetype6.shapes.add_picture(file3, left = Inches(3), top = Inches(2))\n"
   ]
  },
  {
   "cell_type": "code",
   "execution_count": 9,
   "metadata": {},
   "outputs": [
    {
     "data": {
      "text/plain": [
       "<pptx.shapes.picture.Picture at 0x7feee80c4220>"
      ]
     },
     "execution_count": 9,
     "metadata": {},
     "output_type": "execute_result"
    }
   ],
   "source": [
    "# 7. Blank\n",
    "slidetype7 = pres.slides.add_slide(pres.slide_layouts[6])\n",
    "slidetype7.shapes.add_picture(file1, left = Inches(3), top = Inches(2))\n"
   ]
  },
  {
   "cell_type": "code",
   "execution_count": 10,
   "metadata": {},
   "outputs": [],
   "source": [
    "# 8. Content with Caption\n",
    "slidetype8 = pres.slides.add_slide(pres.slide_layouts[7])\n",
    "slidetype8.placeholders[0].text = \"This is slide layouts main title\"\n",
    "slidetype8.placeholders[1].text = \"This is shape is content type and paragraphs go here.\"\n",
    "slidetype8.placeholders[2].text = \"Description: Eighth layout \\n slide_layouts[7] - Content with caption.\"\n"
   ]
  },
  {
   "cell_type": "code",
   "execution_count": 11,
   "metadata": {},
   "outputs": [],
   "source": [
    "# 9. Picture with Caption\n",
    "slidetype9 = pres.slides.add_slide(pres.slide_layouts[8])\n",
    "slidetype9.placeholders[0].text = \"Slide title here\"\n",
    "slidetype9.shapes.placeholders[1].insert_picture(file2)\n",
    "slidetype9.placeholders[2].text = \"Description: Ninth layout \\n slide_layouts[8] - Picture with caption.\"\n"
   ]
  },
  {
   "cell_type": "code",
   "execution_count": 12,
   "metadata": {},
   "outputs": [],
   "source": [
    "# Save the PPT\n",
    "pres.save(\"./presentationSample.pptx\")\n"
   ]
  },
  {
   "cell_type": "markdown",
   "metadata": {},
   "source": [
    "# DONE!"
   ]
  }
 ],
 "metadata": {
  "kernelspec": {
   "display_name": "Python 3",
   "language": "python",
   "name": "python3"
  },
  "language_info": {
   "codemirror_mode": {
    "name": "ipython",
    "version": 3
   },
   "file_extension": ".py",
   "mimetype": "text/x-python",
   "name": "python",
   "nbconvert_exporter": "python",
   "pygments_lexer": "ipython3",
   "version": "3.8.5"
  }
 },
 "nbformat": 4,
 "nbformat_minor": 4
}
